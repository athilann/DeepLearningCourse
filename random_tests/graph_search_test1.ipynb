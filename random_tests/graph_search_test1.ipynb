{
 "cells": [
  {
   "cell_type": "code",
   "execution_count": 7,
   "metadata": {},
   "outputs": [],
   "source": [
    "import networkx as nx\n",
    "import plotly.graph_objs as go"
   ]
  },
  {
   "cell_type": "code",
   "execution_count": 8,
   "metadata": {},
   "outputs": [],
   "source": [
    "class Graph:\n",
    "        def __init__(self):\n",
    "            self.seeds = []\n",
    "\n",
    "        def add_seed(self, seed):\n",
    "            self.seeds.append(seed)\n",
    "\n",
    "        def get_seeds(self):\n",
    "            return self.seeds"
   ]
  },
  {
   "cell_type": "code",
   "execution_count": 9,
   "metadata": {},
   "outputs": [],
   "source": [
    "class Seed:\n",
    "    def __init__(self, name, connections, path, grow_count=0):\n",
    "        self.name = name\n",
    "        self.connections = connections\n",
    "        self.path = path\n",
    "        self.grow_count = grow_count\n",
    "        self.grow_limit = 6\n",
    "        self.grow_name = name + \"_\" + str(grow_count)\n",
    "\n",
    "    def set_name(self, name):\n",
    "        self.name = name\n",
    "\n",
    "    def get_name(self):\n",
    "        return self.name\n",
    "\n",
    "    def add_connection(self, connection):\n",
    "        self.connections.append(connection)\n",
    "\n",
    "    def get_connections(self):\n",
    "        return self.connections\n",
    "\n",
    "    def set_path(self, path):\n",
    "        self.path = path\n",
    "\n",
    "    def get_path(self):\n",
    "        return self.path\n",
    "\n",
    "    def grow(self, grow_count=0, seeds=[]):\n",
    "        \n",
    "        new_seeds = []\n",
    "        for seed in self.get_connections():\n",
    "            new_seeds.append(Seed(seed.get_name(), self.get_path()+[self.grow_name], grow_count))\n",
    "\n",
    "        print(f\"Seeds {self.grow_count}: {[seed.grow_name for seed in new_seeds]}\")\n",
    "        return new_seeds\n",
    "    \n"
   ]
  },
  {
   "cell_type": "code",
   "execution_count": 10,
   "metadata": {},
   "outputs": [],
   "source": [
    "def plotGraph(seeds=[],path=[],use_grow_name=False):\n",
    "    G = nx.Graph()\n",
    "    for seed in seeds:\n",
    "        G.add_node(seed.get_name() if not use_grow_name else seed.grow_name)\n",
    "        for connection in seed.get_connections():\n",
    "            G.add_edge(seed.get_name() if not use_grow_name else seed.grow_name, connection.get_name() if not use_grow_name else connection.grow_name)\n",
    "\n",
    "    # Generate positions for the nodes\n",
    "    pos = nx.spring_layout(G)\n",
    "    layout = go.Layout(title=\"Graph\", showlegend=False, hovermode=\"closest\", margin=dict(b=20, l=5, r=5, t=40))\n",
    "\n",
    "    # Define the nodes and edges\n",
    "    node_trace = go.Scatter(x=[], y=[], text=[], mode=\"text+markers\", hoverinfo=\"text\", marker=dict(color=\"lightskyblue\", size=20, line=dict(width=2)))\n",
    "    edge_trace = go.Scatter(x=[], y=[], line=dict(width=2, color=\"gray\"))\n",
    "    branch_trace = go.Scatter(x=[], y=[], line=dict(width=2, color=\"red\"))\n",
    "\n",
    "    #Add the nodes and edges to the traces\n",
    "    for node in G.nodes():\n",
    "        x, y = pos[node]\n",
    "        node_trace[\"x\"] += tuple([x])\n",
    "        node_trace[\"y\"] += tuple([y])\n",
    "        node_trace[\"text\"] += tuple([node])\n",
    "\n",
    "    for edge in G.edges():\n",
    "        x0, y0 = pos[edge[0]]\n",
    "        x1, y1 = pos[edge[1]]\n",
    "        edge_trace[\"x\"] += tuple([x0, x1, None])\n",
    "        edge_trace[\"y\"] += tuple([y0, y1, None])\n",
    "\n",
    "\n",
    "    branch_code = path\n",
    "\n",
    "    for i in range(len(branch_code)-1):\n",
    "        x0, y0 = pos[branch_code[i]]\n",
    "        x1, y1 = pos[branch_code[i+1]]\n",
    "        branch_trace[\"x\"] += tuple([x0, x1, None])\n",
    "        branch_trace[\"y\"] += tuple([y0, y1, None])\n",
    "\n",
    "    # Create the figure\n",
    "    fig = go.Figure(data=[edge_trace, node_trace, branch_trace], layout=layout)\n",
    "\n",
    "    # Show the figure\n",
    "    fig.show()\n"
   ]
  },
  {
   "cell_type": "code",
   "execution_count": 11,
   "metadata": {},
   "outputs": [],
   "source": [
    "def main():\n",
    "    # create a graph\n",
    "    graph = Graph()\n",
    "\n",
    "    # create some seeds\n",
    "    seedA = Seed(\"A\", [], [])\n",
    "    seedB = Seed(\"B\", [], [])\n",
    "    seedC = Seed(\"C\", [], [])\n",
    "    seedD = Seed(\"D\", [], [])\n",
    "    seedE = Seed(\"E\", [], [])\n",
    "    seedF = Seed(\"F\", [], [])\n",
    "    seedA.add_connection(seedB)\n",
    "    seedA.add_connection(seedC)\n",
    "    seedA.add_connection(seedF)\n",
    "\n",
    "    seedB.add_connection(seedA)\n",
    "    seedB.add_connection(seedC)\n",
    "    seedB.add_connection(seedD)\n",
    "\n",
    "    seedC.add_connection(seedA)\n",
    "    seedC.add_connection(seedB)\n",
    "    seedC.add_connection(seedD)\n",
    "    seedC.add_connection(seedF)\n",
    "\n",
    "    seedD.add_connection(seedB)\n",
    "    seedD.add_connection(seedC)\n",
    "    seedD.add_connection(seedF)\n",
    "    seedD.add_connection(seedE)\n",
    "    \n",
    "    seedE.add_connection(seedD)\n",
    "    seedE.add_connection(seedF)\n",
    "    \n",
    "    seedF.add_connection(seedA)\n",
    "    seedF.add_connection(seedC)\n",
    "    seedF.add_connection(seedD)\n",
    "    seedF.add_connection(seedE)\n",
    "\n",
    "    # add seeds to graph\n",
    "    graph.add_seed(seedA)\n",
    "    graph.add_seed(seedB)\n",
    "    graph.add_seed(seedC)\n",
    "    graph.add_seed(seedD)\n",
    "    graph.add_seed(seedE)\n",
    "    graph.add_seed(seedF)\n",
    "\n",
    "    # print out the graph\n",
    "    for seed in graph.seeds:\n",
    "        print(f\"Seed: {seed.get_name()}\")\n",
    "        print(f\"Connections: {[connection.get_name() for connection in seed.get_connections()]}\")\n",
    "        print(f\"Path: {[path.get_name() for path in seed.get_path()]}\\n\")\n",
    "\n",
    "\n",
    "    plotGraph(graph.seeds, [\"A\", \"B\", \"C\", \"D\", \"E\", \"F\"])\n",
    "\n",
    "    plotGraph(seedA.grow(1),[], True)\n",
    "    plotGraph(seedA.grow(2),[], True)\n",
    "    plotGraph(seedA.grow(3),[], True)\n",
    "\n",
    "\n",
    "    "
   ]
  },
  {
   "cell_type": "code",
   "execution_count": 13,
   "metadata": {},
   "outputs": [
    {
     "name": "stdout",
     "output_type": "stream",
     "text": [
      "Seed: A\n",
      "Connections: ['B', 'C', 'F']\n",
      "Path: []\n",
      "\n",
      "Seed: B\n",
      "Connections: ['A', 'C', 'D']\n",
      "Path: []\n",
      "\n",
      "Seed: C\n",
      "Connections: ['A', 'B', 'D', 'F']\n",
      "Path: []\n",
      "\n",
      "Seed: D\n",
      "Connections: ['B', 'C', 'F', 'E']\n",
      "Path: []\n",
      "\n",
      "Seed: E\n",
      "Connections: ['D', 'F']\n",
      "Path: []\n",
      "\n",
      "Seed: F\n",
      "Connections: ['A', 'C', 'D', 'E']\n",
      "Path: []\n",
      "\n"
     ]
    },
    {
     "data": {
      "application/vnd.plotly.v1+json": {
       "config": {
        "plotlyServerURL": "https://plot.ly"
       },
       "data": [
        {
         "line": {
          "color": "gray",
          "width": 2
         },
         "type": "scatter",
         "x": [
          -0.6275511115213495,
          -0.1299635467690557,
          null,
          -0.6275511115213495,
          0.23523797933640522,
          null,
          -0.6275511115213495,
          -0.18261937757263752,
          null,
          -0.1299635467690557,
          0.23523797933640522,
          null,
          -0.1299635467690557,
          0.4453066991599466,
          null,
          0.23523797933640522,
          0.4453066991599466,
          null,
          0.23523797933640522,
          -0.18261937757263752,
          null,
          -0.18261937757263752,
          0.4453066991599466,
          null,
          -0.18261937757263752,
          0.25958935736669075,
          null,
          0.4453066991599466,
          0.25958935736669075,
          null
         ],
         "y": [
          0.5440774366029927,
          0.37673365439333384,
          null,
          0.5440774366029927,
          0.5418251890224737,
          null,
          0.5440774366029927,
          -0.2554699725535084,
          null,
          0.37673365439333384,
          0.5418251890224737,
          null,
          0.37673365439333384,
          -0.20716630746528983,
          null,
          0.5418251890224737,
          -0.20716630746528983,
          null,
          0.5418251890224737,
          -0.2554699725535084,
          null,
          -0.2554699725535084,
          -0.20716630746528983,
          null,
          -0.2554699725535084,
          -1,
          null,
          -0.20716630746528983,
          -1,
          null
         ]
        },
        {
         "hoverinfo": "text",
         "marker": {
          "color": "lightskyblue",
          "line": {
           "width": 2
          },
          "size": 20
         },
         "mode": "text+markers",
         "text": [
          "A",
          "B",
          "C",
          "F",
          "D",
          "E"
         ],
         "type": "scatter",
         "x": [
          -0.6275511115213495,
          -0.1299635467690557,
          0.23523797933640522,
          -0.18261937757263752,
          0.4453066991599466,
          0.25958935736669075
         ],
         "y": [
          0.5440774366029927,
          0.37673365439333384,
          0.5418251890224737,
          -0.2554699725535084,
          -0.20716630746528983,
          -1
         ]
        },
        {
         "line": {
          "color": "red",
          "width": 2
         },
         "type": "scatter",
         "x": [
          -0.6275511115213495,
          -0.1299635467690557,
          null,
          -0.1299635467690557,
          0.23523797933640522,
          null,
          0.23523797933640522,
          0.4453066991599466,
          null,
          0.4453066991599466,
          0.25958935736669075,
          null,
          0.25958935736669075,
          -0.18261937757263752,
          null
         ],
         "y": [
          0.5440774366029927,
          0.37673365439333384,
          null,
          0.37673365439333384,
          0.5418251890224737,
          null,
          0.5418251890224737,
          -0.20716630746528983,
          null,
          -0.20716630746528983,
          -1,
          null,
          -1,
          -0.2554699725535084,
          null
         ]
        }
       ],
       "layout": {
        "hovermode": "closest",
        "margin": {
         "b": 20,
         "l": 5,
         "r": 5,
         "t": 40
        },
        "showlegend": false,
        "template": {
         "data": {
          "bar": [
           {
            "error_x": {
             "color": "#2a3f5f"
            },
            "error_y": {
             "color": "#2a3f5f"
            },
            "marker": {
             "line": {
              "color": "#E5ECF6",
              "width": 0.5
             },
             "pattern": {
              "fillmode": "overlay",
              "size": 10,
              "solidity": 0.2
             }
            },
            "type": "bar"
           }
          ],
          "barpolar": [
           {
            "marker": {
             "line": {
              "color": "#E5ECF6",
              "width": 0.5
             },
             "pattern": {
              "fillmode": "overlay",
              "size": 10,
              "solidity": 0.2
             }
            },
            "type": "barpolar"
           }
          ],
          "carpet": [
           {
            "aaxis": {
             "endlinecolor": "#2a3f5f",
             "gridcolor": "white",
             "linecolor": "white",
             "minorgridcolor": "white",
             "startlinecolor": "#2a3f5f"
            },
            "baxis": {
             "endlinecolor": "#2a3f5f",
             "gridcolor": "white",
             "linecolor": "white",
             "minorgridcolor": "white",
             "startlinecolor": "#2a3f5f"
            },
            "type": "carpet"
           }
          ],
          "choropleth": [
           {
            "colorbar": {
             "outlinewidth": 0,
             "ticks": ""
            },
            "type": "choropleth"
           }
          ],
          "contour": [
           {
            "colorbar": {
             "outlinewidth": 0,
             "ticks": ""
            },
            "colorscale": [
             [
              0,
              "#0d0887"
             ],
             [
              0.1111111111111111,
              "#46039f"
             ],
             [
              0.2222222222222222,
              "#7201a8"
             ],
             [
              0.3333333333333333,
              "#9c179e"
             ],
             [
              0.4444444444444444,
              "#bd3786"
             ],
             [
              0.5555555555555556,
              "#d8576b"
             ],
             [
              0.6666666666666666,
              "#ed7953"
             ],
             [
              0.7777777777777778,
              "#fb9f3a"
             ],
             [
              0.8888888888888888,
              "#fdca26"
             ],
             [
              1,
              "#f0f921"
             ]
            ],
            "type": "contour"
           }
          ],
          "contourcarpet": [
           {
            "colorbar": {
             "outlinewidth": 0,
             "ticks": ""
            },
            "type": "contourcarpet"
           }
          ],
          "heatmap": [
           {
            "colorbar": {
             "outlinewidth": 0,
             "ticks": ""
            },
            "colorscale": [
             [
              0,
              "#0d0887"
             ],
             [
              0.1111111111111111,
              "#46039f"
             ],
             [
              0.2222222222222222,
              "#7201a8"
             ],
             [
              0.3333333333333333,
              "#9c179e"
             ],
             [
              0.4444444444444444,
              "#bd3786"
             ],
             [
              0.5555555555555556,
              "#d8576b"
             ],
             [
              0.6666666666666666,
              "#ed7953"
             ],
             [
              0.7777777777777778,
              "#fb9f3a"
             ],
             [
              0.8888888888888888,
              "#fdca26"
             ],
             [
              1,
              "#f0f921"
             ]
            ],
            "type": "heatmap"
           }
          ],
          "heatmapgl": [
           {
            "colorbar": {
             "outlinewidth": 0,
             "ticks": ""
            },
            "colorscale": [
             [
              0,
              "#0d0887"
             ],
             [
              0.1111111111111111,
              "#46039f"
             ],
             [
              0.2222222222222222,
              "#7201a8"
             ],
             [
              0.3333333333333333,
              "#9c179e"
             ],
             [
              0.4444444444444444,
              "#bd3786"
             ],
             [
              0.5555555555555556,
              "#d8576b"
             ],
             [
              0.6666666666666666,
              "#ed7953"
             ],
             [
              0.7777777777777778,
              "#fb9f3a"
             ],
             [
              0.8888888888888888,
              "#fdca26"
             ],
             [
              1,
              "#f0f921"
             ]
            ],
            "type": "heatmapgl"
           }
          ],
          "histogram": [
           {
            "marker": {
             "pattern": {
              "fillmode": "overlay",
              "size": 10,
              "solidity": 0.2
             }
            },
            "type": "histogram"
           }
          ],
          "histogram2d": [
           {
            "colorbar": {
             "outlinewidth": 0,
             "ticks": ""
            },
            "colorscale": [
             [
              0,
              "#0d0887"
             ],
             [
              0.1111111111111111,
              "#46039f"
             ],
             [
              0.2222222222222222,
              "#7201a8"
             ],
             [
              0.3333333333333333,
              "#9c179e"
             ],
             [
              0.4444444444444444,
              "#bd3786"
             ],
             [
              0.5555555555555556,
              "#d8576b"
             ],
             [
              0.6666666666666666,
              "#ed7953"
             ],
             [
              0.7777777777777778,
              "#fb9f3a"
             ],
             [
              0.8888888888888888,
              "#fdca26"
             ],
             [
              1,
              "#f0f921"
             ]
            ],
            "type": "histogram2d"
           }
          ],
          "histogram2dcontour": [
           {
            "colorbar": {
             "outlinewidth": 0,
             "ticks": ""
            },
            "colorscale": [
             [
              0,
              "#0d0887"
             ],
             [
              0.1111111111111111,
              "#46039f"
             ],
             [
              0.2222222222222222,
              "#7201a8"
             ],
             [
              0.3333333333333333,
              "#9c179e"
             ],
             [
              0.4444444444444444,
              "#bd3786"
             ],
             [
              0.5555555555555556,
              "#d8576b"
             ],
             [
              0.6666666666666666,
              "#ed7953"
             ],
             [
              0.7777777777777778,
              "#fb9f3a"
             ],
             [
              0.8888888888888888,
              "#fdca26"
             ],
             [
              1,
              "#f0f921"
             ]
            ],
            "type": "histogram2dcontour"
           }
          ],
          "mesh3d": [
           {
            "colorbar": {
             "outlinewidth": 0,
             "ticks": ""
            },
            "type": "mesh3d"
           }
          ],
          "parcoords": [
           {
            "line": {
             "colorbar": {
              "outlinewidth": 0,
              "ticks": ""
             }
            },
            "type": "parcoords"
           }
          ],
          "pie": [
           {
            "automargin": true,
            "type": "pie"
           }
          ],
          "scatter": [
           {
            "fillpattern": {
             "fillmode": "overlay",
             "size": 10,
             "solidity": 0.2
            },
            "type": "scatter"
           }
          ],
          "scatter3d": [
           {
            "line": {
             "colorbar": {
              "outlinewidth": 0,
              "ticks": ""
             }
            },
            "marker": {
             "colorbar": {
              "outlinewidth": 0,
              "ticks": ""
             }
            },
            "type": "scatter3d"
           }
          ],
          "scattercarpet": [
           {
            "marker": {
             "colorbar": {
              "outlinewidth": 0,
              "ticks": ""
             }
            },
            "type": "scattercarpet"
           }
          ],
          "scattergeo": [
           {
            "marker": {
             "colorbar": {
              "outlinewidth": 0,
              "ticks": ""
             }
            },
            "type": "scattergeo"
           }
          ],
          "scattergl": [
           {
            "marker": {
             "colorbar": {
              "outlinewidth": 0,
              "ticks": ""
             }
            },
            "type": "scattergl"
           }
          ],
          "scattermapbox": [
           {
            "marker": {
             "colorbar": {
              "outlinewidth": 0,
              "ticks": ""
             }
            },
            "type": "scattermapbox"
           }
          ],
          "scatterpolar": [
           {
            "marker": {
             "colorbar": {
              "outlinewidth": 0,
              "ticks": ""
             }
            },
            "type": "scatterpolar"
           }
          ],
          "scatterpolargl": [
           {
            "marker": {
             "colorbar": {
              "outlinewidth": 0,
              "ticks": ""
             }
            },
            "type": "scatterpolargl"
           }
          ],
          "scatterternary": [
           {
            "marker": {
             "colorbar": {
              "outlinewidth": 0,
              "ticks": ""
             }
            },
            "type": "scatterternary"
           }
          ],
          "surface": [
           {
            "colorbar": {
             "outlinewidth": 0,
             "ticks": ""
            },
            "colorscale": [
             [
              0,
              "#0d0887"
             ],
             [
              0.1111111111111111,
              "#46039f"
             ],
             [
              0.2222222222222222,
              "#7201a8"
             ],
             [
              0.3333333333333333,
              "#9c179e"
             ],
             [
              0.4444444444444444,
              "#bd3786"
             ],
             [
              0.5555555555555556,
              "#d8576b"
             ],
             [
              0.6666666666666666,
              "#ed7953"
             ],
             [
              0.7777777777777778,
              "#fb9f3a"
             ],
             [
              0.8888888888888888,
              "#fdca26"
             ],
             [
              1,
              "#f0f921"
             ]
            ],
            "type": "surface"
           }
          ],
          "table": [
           {
            "cells": {
             "fill": {
              "color": "#EBF0F8"
             },
             "line": {
              "color": "white"
             }
            },
            "header": {
             "fill": {
              "color": "#C8D4E3"
             },
             "line": {
              "color": "white"
             }
            },
            "type": "table"
           }
          ]
         },
         "layout": {
          "annotationdefaults": {
           "arrowcolor": "#2a3f5f",
           "arrowhead": 0,
           "arrowwidth": 1
          },
          "autotypenumbers": "strict",
          "coloraxis": {
           "colorbar": {
            "outlinewidth": 0,
            "ticks": ""
           }
          },
          "colorscale": {
           "diverging": [
            [
             0,
             "#8e0152"
            ],
            [
             0.1,
             "#c51b7d"
            ],
            [
             0.2,
             "#de77ae"
            ],
            [
             0.3,
             "#f1b6da"
            ],
            [
             0.4,
             "#fde0ef"
            ],
            [
             0.5,
             "#f7f7f7"
            ],
            [
             0.6,
             "#e6f5d0"
            ],
            [
             0.7,
             "#b8e186"
            ],
            [
             0.8,
             "#7fbc41"
            ],
            [
             0.9,
             "#4d9221"
            ],
            [
             1,
             "#276419"
            ]
           ],
           "sequential": [
            [
             0,
             "#0d0887"
            ],
            [
             0.1111111111111111,
             "#46039f"
            ],
            [
             0.2222222222222222,
             "#7201a8"
            ],
            [
             0.3333333333333333,
             "#9c179e"
            ],
            [
             0.4444444444444444,
             "#bd3786"
            ],
            [
             0.5555555555555556,
             "#d8576b"
            ],
            [
             0.6666666666666666,
             "#ed7953"
            ],
            [
             0.7777777777777778,
             "#fb9f3a"
            ],
            [
             0.8888888888888888,
             "#fdca26"
            ],
            [
             1,
             "#f0f921"
            ]
           ],
           "sequentialminus": [
            [
             0,
             "#0d0887"
            ],
            [
             0.1111111111111111,
             "#46039f"
            ],
            [
             0.2222222222222222,
             "#7201a8"
            ],
            [
             0.3333333333333333,
             "#9c179e"
            ],
            [
             0.4444444444444444,
             "#bd3786"
            ],
            [
             0.5555555555555556,
             "#d8576b"
            ],
            [
             0.6666666666666666,
             "#ed7953"
            ],
            [
             0.7777777777777778,
             "#fb9f3a"
            ],
            [
             0.8888888888888888,
             "#fdca26"
            ],
            [
             1,
             "#f0f921"
            ]
           ]
          },
          "colorway": [
           "#636efa",
           "#EF553B",
           "#00cc96",
           "#ab63fa",
           "#FFA15A",
           "#19d3f3",
           "#FF6692",
           "#B6E880",
           "#FF97FF",
           "#FECB52"
          ],
          "font": {
           "color": "#2a3f5f"
          },
          "geo": {
           "bgcolor": "white",
           "lakecolor": "white",
           "landcolor": "#E5ECF6",
           "showlakes": true,
           "showland": true,
           "subunitcolor": "white"
          },
          "hoverlabel": {
           "align": "left"
          },
          "hovermode": "closest",
          "mapbox": {
           "style": "light"
          },
          "paper_bgcolor": "white",
          "plot_bgcolor": "#E5ECF6",
          "polar": {
           "angularaxis": {
            "gridcolor": "white",
            "linecolor": "white",
            "ticks": ""
           },
           "bgcolor": "#E5ECF6",
           "radialaxis": {
            "gridcolor": "white",
            "linecolor": "white",
            "ticks": ""
           }
          },
          "scene": {
           "xaxis": {
            "backgroundcolor": "#E5ECF6",
            "gridcolor": "white",
            "gridwidth": 2,
            "linecolor": "white",
            "showbackground": true,
            "ticks": "",
            "zerolinecolor": "white"
           },
           "yaxis": {
            "backgroundcolor": "#E5ECF6",
            "gridcolor": "white",
            "gridwidth": 2,
            "linecolor": "white",
            "showbackground": true,
            "ticks": "",
            "zerolinecolor": "white"
           },
           "zaxis": {
            "backgroundcolor": "#E5ECF6",
            "gridcolor": "white",
            "gridwidth": 2,
            "linecolor": "white",
            "showbackground": true,
            "ticks": "",
            "zerolinecolor": "white"
           }
          },
          "shapedefaults": {
           "line": {
            "color": "#2a3f5f"
           }
          },
          "ternary": {
           "aaxis": {
            "gridcolor": "white",
            "linecolor": "white",
            "ticks": ""
           },
           "baxis": {
            "gridcolor": "white",
            "linecolor": "white",
            "ticks": ""
           },
           "bgcolor": "#E5ECF6",
           "caxis": {
            "gridcolor": "white",
            "linecolor": "white",
            "ticks": ""
           }
          },
          "title": {
           "x": 0.05
          },
          "xaxis": {
           "automargin": true,
           "gridcolor": "white",
           "linecolor": "white",
           "ticks": "",
           "title": {
            "standoff": 15
           },
           "zerolinecolor": "white",
           "zerolinewidth": 2
          },
          "yaxis": {
           "automargin": true,
           "gridcolor": "white",
           "linecolor": "white",
           "ticks": "",
           "title": {
            "standoff": 15
           },
           "zerolinecolor": "white",
           "zerolinewidth": 2
          }
         }
        },
        "title": {
         "text": "Graph"
        }
       }
      }
     },
     "metadata": {},
     "output_type": "display_data"
    },
    {
     "name": "stdout",
     "output_type": "stream",
     "text": [
      "Seeds 0: ['B_0', 'C_0', 'F_0']\n"
     ]
    },
    {
     "ename": "AttributeError",
     "evalue": "'str' object has no attribute 'grow_name'",
     "output_type": "error",
     "traceback": [
      "\u001b[1;31m---------------------------------------------------------------------------\u001b[0m",
      "\u001b[1;31mAttributeError\u001b[0m                            Traceback (most recent call last)",
      "\u001b[1;32mc:\\Users\\athil\\source\\repos\\DeepLearningCourse\\random_tests\\graph_search_test1.ipynb Cell 6\u001b[0m line \u001b[0;36m1\n\u001b[1;32m----> <a href='vscode-notebook-cell:/c%3A/Users/athil/source/repos/DeepLearningCourse/random_tests/graph_search_test1.ipynb#W5sZmlsZQ%3D%3D?line=0'>1</a>\u001b[0m main()\n",
      "\u001b[1;32mc:\\Users\\athil\\source\\repos\\DeepLearningCourse\\random_tests\\graph_search_test1.ipynb Cell 6\u001b[0m line \u001b[0;36m5\n\u001b[0;32m     <a href='vscode-notebook-cell:/c%3A/Users/athil/source/repos/DeepLearningCourse/random_tests/graph_search_test1.ipynb#W5sZmlsZQ%3D%3D?line=49'>50</a>\u001b[0m     \u001b[39mprint\u001b[39m(\u001b[39mf\u001b[39m\u001b[39m\"\u001b[39m\u001b[39mPath: \u001b[39m\u001b[39m{\u001b[39;00m[path\u001b[39m.\u001b[39mget_name() \u001b[39mfor\u001b[39;00m path \u001b[39min\u001b[39;00m seed\u001b[39m.\u001b[39mget_path()]\u001b[39m}\u001b[39;00m\u001b[39m\\n\u001b[39;00m\u001b[39m\"\u001b[39m)\n\u001b[0;32m     <a href='vscode-notebook-cell:/c%3A/Users/athil/source/repos/DeepLearningCourse/random_tests/graph_search_test1.ipynb#W5sZmlsZQ%3D%3D?line=52'>53</a>\u001b[0m plotGraph(graph\u001b[39m.\u001b[39mseeds, [\u001b[39m\"\u001b[39m\u001b[39mA\u001b[39m\u001b[39m\"\u001b[39m, \u001b[39m\"\u001b[39m\u001b[39mB\u001b[39m\u001b[39m\"\u001b[39m, \u001b[39m\"\u001b[39m\u001b[39mC\u001b[39m\u001b[39m\"\u001b[39m, \u001b[39m\"\u001b[39m\u001b[39mD\u001b[39m\u001b[39m\"\u001b[39m, \u001b[39m\"\u001b[39m\u001b[39mE\u001b[39m\u001b[39m\"\u001b[39m, \u001b[39m\"\u001b[39m\u001b[39mF\u001b[39m\u001b[39m\"\u001b[39m])\n\u001b[1;32m---> <a href='vscode-notebook-cell:/c%3A/Users/athil/source/repos/DeepLearningCourse/random_tests/graph_search_test1.ipynb#W5sZmlsZQ%3D%3D?line=54'>55</a>\u001b[0m plotGraph(seedA\u001b[39m.\u001b[39;49mgrow(\u001b[39m1\u001b[39;49m),[], \u001b[39mTrue\u001b[39;49;00m)\n\u001b[0;32m     <a href='vscode-notebook-cell:/c%3A/Users/athil/source/repos/DeepLearningCourse/random_tests/graph_search_test1.ipynb#W5sZmlsZQ%3D%3D?line=55'>56</a>\u001b[0m plotGraph(seedA\u001b[39m.\u001b[39mgrow(\u001b[39m2\u001b[39m),[], \u001b[39mTrue\u001b[39;00m)\n\u001b[0;32m     <a href='vscode-notebook-cell:/c%3A/Users/athil/source/repos/DeepLearningCourse/random_tests/graph_search_test1.ipynb#W5sZmlsZQ%3D%3D?line=56'>57</a>\u001b[0m plotGraph(seedA\u001b[39m.\u001b[39mgrow(\u001b[39m3\u001b[39m),[], \u001b[39mTrue\u001b[39;00m)\n",
      "\u001b[1;32mc:\\Users\\athil\\source\\repos\\DeepLearningCourse\\random_tests\\graph_search_test1.ipynb Cell 6\u001b[0m line \u001b[0;36m6\n\u001b[0;32m      <a href='vscode-notebook-cell:/c%3A/Users/athil/source/repos/DeepLearningCourse/random_tests/graph_search_test1.ipynb#W5sZmlsZQ%3D%3D?line=3'>4</a>\u001b[0m     G\u001b[39m.\u001b[39madd_node(seed\u001b[39m.\u001b[39mget_name() \u001b[39mif\u001b[39;00m \u001b[39mnot\u001b[39;00m use_grow_name \u001b[39melse\u001b[39;00m seed\u001b[39m.\u001b[39mgrow_name)\n\u001b[0;32m      <a href='vscode-notebook-cell:/c%3A/Users/athil/source/repos/DeepLearningCourse/random_tests/graph_search_test1.ipynb#W5sZmlsZQ%3D%3D?line=4'>5</a>\u001b[0m     \u001b[39mfor\u001b[39;00m connection \u001b[39min\u001b[39;00m seed\u001b[39m.\u001b[39mget_connections():\n\u001b[1;32m----> <a href='vscode-notebook-cell:/c%3A/Users/athil/source/repos/DeepLearningCourse/random_tests/graph_search_test1.ipynb#W5sZmlsZQ%3D%3D?line=5'>6</a>\u001b[0m         G\u001b[39m.\u001b[39madd_edge(seed\u001b[39m.\u001b[39mget_name() \u001b[39mif\u001b[39;00m \u001b[39mnot\u001b[39;00m use_grow_name \u001b[39melse\u001b[39;00m seed\u001b[39m.\u001b[39mgrow_name, connection\u001b[39m.\u001b[39mget_name() \u001b[39mif\u001b[39;00m \u001b[39mnot\u001b[39;00m use_grow_name \u001b[39melse\u001b[39;00m connection\u001b[39m.\u001b[39;49mgrow_name)\n\u001b[0;32m      <a href='vscode-notebook-cell:/c%3A/Users/athil/source/repos/DeepLearningCourse/random_tests/graph_search_test1.ipynb#W5sZmlsZQ%3D%3D?line=7'>8</a>\u001b[0m \u001b[39m# Generate positions for the nodes\u001b[39;00m\n\u001b[0;32m      <a href='vscode-notebook-cell:/c%3A/Users/athil/source/repos/DeepLearningCourse/random_tests/graph_search_test1.ipynb#W5sZmlsZQ%3D%3D?line=8'>9</a>\u001b[0m pos \u001b[39m=\u001b[39m nx\u001b[39m.\u001b[39mspring_layout(G)\n",
      "\u001b[1;31mAttributeError\u001b[0m: 'str' object has no attribute 'grow_name'"
     ]
    }
   ],
   "source": [
    "main()"
   ]
  }
 ],
 "metadata": {
  "kernelspec": {
   "display_name": "base",
   "language": "python",
   "name": "python3"
  },
  "language_info": {
   "codemirror_mode": {
    "name": "ipython",
    "version": 3
   },
   "file_extension": ".py",
   "mimetype": "text/x-python",
   "name": "python",
   "nbconvert_exporter": "python",
   "pygments_lexer": "ipython3",
   "version": "3.10.9"
  },
  "orig_nbformat": 4
 },
 "nbformat": 4,
 "nbformat_minor": 2
}
