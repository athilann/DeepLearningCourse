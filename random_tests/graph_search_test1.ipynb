{
 "cells": [
  {
   "cell_type": "code",
   "execution_count": 11,
   "metadata": {},
   "outputs": [],
   "source": [
    "import networkx as nx\n",
    "import plotly.graph_objs as go"
   ]
  },
  {
   "cell_type": "code",
   "execution_count": 12,
   "metadata": {},
   "outputs": [],
   "source": [
    "class Seed:\n",
    "    def __init__(self, name, connections, path):\n",
    "        self.name = name\n",
    "        self.connections = connections\n",
    "        self.path = path\n",
    "\n",
    "    def set_name(self, name):\n",
    "        self.name = name\n",
    "\n",
    "    def get_name(self):\n",
    "        return self.name\n",
    "\n",
    "    def add_connection(self, connection):\n",
    "        self.connections.append(connection)\n",
    "\n",
    "    def get_connections(self):\n",
    "        return self.connections\n",
    "\n",
    "    def set_path(self, path):\n",
    "        self.path = path\n",
    "\n",
    "    def get_path(self):\n",
    "        return self.path\n",
    "        \n",
    "        \n",
    "\n",
    "class Graph:\n",
    "    def __init__(self):\n",
    "        self.seeds = []\n",
    "\n",
    "    def add_seed(self, seed):\n",
    "        self.seeds.append(seed)\n"
   ]
  },
  {
   "cell_type": "code",
   "execution_count": 13,
   "metadata": {},
   "outputs": [],
   "source": [
    "def plotGraph(seeds=[],path=[]):\n",
    "    G = nx.Graph()\n",
    "    for seed in seeds:\n",
    "        G.add_node(seed.get_name())\n",
    "        for connection in seed.get_connections():\n",
    "            G.add_edge(seed.get_name(), connection.get_name())\n",
    "\n",
    "    # Generate positions for the nodes\n",
    "    pos = nx.spring_layout(G)\n",
    "    layout = go.Layout(title=\"Graph\", showlegend=False, hovermode=\"closest\", margin=dict(b=20, l=5, r=5, t=40))\n",
    "\n",
    "    # Define the nodes and edges\n",
    "    node_trace = go.Scatter(x=[], y=[], text=[], mode=\"text+markers\", hoverinfo=\"text\", marker=dict(color=\"lightskyblue\", size=20, line=dict(width=2)))\n",
    "    edge_trace = go.Scatter(x=[], y=[], line=dict(width=2, color=\"gray\"))\n",
    "    branch_trace = go.Scatter(x=[], y=[], line=dict(width=2, color=\"red\"))\n",
    "\n",
    "    #Add the nodes and edges to the traces\n",
    "    for node in G.nodes():\n",
    "        x, y = pos[node]\n",
    "        node_trace[\"x\"] += tuple([x])\n",
    "        node_trace[\"y\"] += tuple([y])\n",
    "        node_trace[\"text\"] += tuple([node])\n",
    "\n",
    "    for edge in G.edges():\n",
    "        x0, y0 = pos[edge[0]]\n",
    "        x1, y1 = pos[edge[1]]\n",
    "        edge_trace[\"x\"] += tuple([x0, x1, None])\n",
    "        edge_trace[\"y\"] += tuple([y0, y1, None])\n",
    "\n",
    "\n",
    "    branch_code = path\n",
    "\n",
    "    for i in range(len(branch_code)-1):\n",
    "        x0, y0 = pos[branch_code[i]]\n",
    "        x1, y1 = pos[branch_code[i+1]]\n",
    "        branch_trace[\"x\"] += tuple([x0, x1, None])\n",
    "        branch_trace[\"y\"] += tuple([y0, y1, None])\n",
    "\n",
    "    # Create the figure\n",
    "    fig = go.Figure(data=[edge_trace, node_trace, branch_trace], layout=layout)\n",
    "\n",
    "    # Show the figure\n",
    "    fig.show()\n"
   ]
  },
  {
   "cell_type": "code",
   "execution_count": 14,
   "metadata": {},
   "outputs": [],
   "source": [
    "def main():\n",
    "    # create a graph\n",
    "    graph = Graph()\n",
    "\n",
    "    # create some seeds\n",
    "    seedA = Seed(\"A\", [], [])\n",
    "    seedB = Seed(\"B\", [], [])\n",
    "    seedC = Seed(\"C\", [], [])\n",
    "    seedD = Seed(\"D\", [], [])\n",
    "    seedE = Seed(\"E\", [], [])\n",
    "    seedF = Seed(\"F\", [], [])\n",
    "    seedA.add_connection(seedB)\n",
    "    seedA.add_connection(seedC)\n",
    "    seedA.add_connection(seedF)\n",
    "\n",
    "    seedB.add_connection(seedA)\n",
    "    seedB.add_connection(seedC)\n",
    "    seedB.add_connection(seedD)\n",
    "\n",
    "    seedC.add_connection(seedA)\n",
    "    seedC.add_connection(seedB)\n",
    "    seedC.add_connection(seedD)\n",
    "    seedC.add_connection(seedF)\n",
    "\n",
    "    seedD.add_connection(seedB)\n",
    "    seedD.add_connection(seedC)\n",
    "    seedD.add_connection(seedF)\n",
    "    seedD.add_connection(seedE)\n",
    "    \n",
    "    seedE.add_connection(seedD)\n",
    "    seedE.add_connection(seedF)\n",
    "    \n",
    "    seedF.add_connection(seedA)\n",
    "    seedF.add_connection(seedC)\n",
    "    seedF.add_connection(seedD)\n",
    "    seedF.add_connection(seedE)\n",
    "\n",
    "    # add seeds to graph\n",
    "    graph.add_seed(seedA)\n",
    "    graph.add_seed(seedB)\n",
    "    graph.add_seed(seedC)\n",
    "    graph.add_seed(seedD)\n",
    "    graph.add_seed(seedE)\n",
    "    graph.add_seed(seedF)\n",
    "\n",
    "    # print out the graph\n",
    "    for seed in graph.seeds:\n",
    "        print(f\"Seed: {seed.get_name()}\")\n",
    "        print(f\"Connections: {[connection.get_name() for connection in seed.get_connections()]}\")\n",
    "        print(f\"Path: {[path.get_name() for path in seed.get_path()]}\\n\")\n",
    "    \n",
    "    plotGraph(graph.seeds, [\"A\", \"B\", \"C\", \"D\", \"E\", \"F\"])"
   ]
  },
  {
   "cell_type": "code",
   "execution_count": 15,
   "metadata": {},
   "outputs": [
    {
     "name": "stdout",
     "output_type": "stream",
     "text": [
      "Seed: A\n",
      "Connections: ['B', 'C', 'F']\n",
      "Path: []\n",
      "\n",
      "Seed: B\n",
      "Connections: ['A', 'C', 'D']\n",
      "Path: []\n",
      "\n",
      "Seed: C\n",
      "Connections: ['A', 'B', 'D', 'F']\n",
      "Path: []\n",
      "\n",
      "Seed: D\n",
      "Connections: ['B', 'C', 'F', 'E']\n",
      "Path: []\n",
      "\n",
      "Seed: E\n",
      "Connections: ['D', 'F']\n",
      "Path: []\n",
      "\n",
      "Seed: F\n",
      "Connections: ['A', 'C', 'D', 'E']\n",
      "Path: []\n",
      "\n"
     ]
    },
    {
     "data": {
      "application/vnd.plotly.v1+json": {
       "config": {
        "plotlyServerURL": "https://plot.ly"
       },
       "data": [
        {
         "line": {
          "color": "gray",
          "width": 2
         },
         "type": "scatter",
         "x": [
          -0.627054043582486,
          -0.6380983124380915,
          null,
          -0.627054043582486,
          -0.2681783342937995,
          null,
          -0.627054043582486,
          0.27242452022404035,
          null,
          -0.6380983124380915,
          -0.2681783342937995,
          null,
          -0.6380983124380915,
          0.2609061700903373,
          null,
          -0.2681783342937995,
          0.2609061700903373,
          null,
          -0.2681783342937995,
          0.27242452022404035,
          null,
          0.27242452022404035,
          0.2609061700903373,
          null,
          0.27242452022404035,
          1,
          null,
          0.2609061700903373,
          1,
          null
         ],
         "y": [
          0.42440242914514975,
          -0.3984723286623197,
          null,
          0.42440242914514975,
          0.00931030986851616,
          null,
          0.42440242914514975,
          0.34340013746484854,
          null,
          -0.3984723286623197,
          0.00931030986851616,
          null,
          -0.3984723286623197,
          -0.3561377357928947,
          null,
          0.00931030986851616,
          -0.3561377357928947,
          null,
          0.00931030986851616,
          0.34340013746484854,
          null,
          0.34340013746484854,
          -0.3561377357928947,
          null,
          0.34340013746484854,
          -0.022502812023299863,
          null,
          -0.3561377357928947,
          -0.022502812023299863,
          null
         ]
        },
        {
         "hoverinfo": "text",
         "marker": {
          "color": "lightskyblue",
          "line": {
           "width": 2
          },
          "size": 20
         },
         "mode": "text+markers",
         "text": [
          "A",
          "B",
          "C",
          "F",
          "D",
          "E"
         ],
         "type": "scatter",
         "x": [
          -0.627054043582486,
          -0.6380983124380915,
          -0.2681783342937995,
          0.27242452022404035,
          0.2609061700903373,
          1
         ],
         "y": [
          0.42440242914514975,
          -0.3984723286623197,
          0.00931030986851616,
          0.34340013746484854,
          -0.3561377357928947,
          -0.022502812023299863
         ]
        },
        {
         "line": {
          "color": "red",
          "width": 2
         },
         "type": "scatter",
         "x": [
          -0.627054043582486,
          -0.6380983124380915,
          null,
          -0.6380983124380915,
          -0.2681783342937995,
          null,
          -0.2681783342937995,
          0.2609061700903373,
          null,
          0.2609061700903373,
          1,
          null,
          1,
          0.27242452022404035,
          null
         ],
         "y": [
          0.42440242914514975,
          -0.3984723286623197,
          null,
          -0.3984723286623197,
          0.00931030986851616,
          null,
          0.00931030986851616,
          -0.3561377357928947,
          null,
          -0.3561377357928947,
          -0.022502812023299863,
          null,
          -0.022502812023299863,
          0.34340013746484854,
          null
         ]
        }
       ],
       "layout": {
        "hovermode": "closest",
        "margin": {
         "b": 20,
         "l": 5,
         "r": 5,
         "t": 40
        },
        "showlegend": false,
        "template": {
         "data": {
          "bar": [
           {
            "error_x": {
             "color": "#2a3f5f"
            },
            "error_y": {
             "color": "#2a3f5f"
            },
            "marker": {
             "line": {
              "color": "#E5ECF6",
              "width": 0.5
             },
             "pattern": {
              "fillmode": "overlay",
              "size": 10,
              "solidity": 0.2
             }
            },
            "type": "bar"
           }
          ],
          "barpolar": [
           {
            "marker": {
             "line": {
              "color": "#E5ECF6",
              "width": 0.5
             },
             "pattern": {
              "fillmode": "overlay",
              "size": 10,
              "solidity": 0.2
             }
            },
            "type": "barpolar"
           }
          ],
          "carpet": [
           {
            "aaxis": {
             "endlinecolor": "#2a3f5f",
             "gridcolor": "white",
             "linecolor": "white",
             "minorgridcolor": "white",
             "startlinecolor": "#2a3f5f"
            },
            "baxis": {
             "endlinecolor": "#2a3f5f",
             "gridcolor": "white",
             "linecolor": "white",
             "minorgridcolor": "white",
             "startlinecolor": "#2a3f5f"
            },
            "type": "carpet"
           }
          ],
          "choropleth": [
           {
            "colorbar": {
             "outlinewidth": 0,
             "ticks": ""
            },
            "type": "choropleth"
           }
          ],
          "contour": [
           {
            "colorbar": {
             "outlinewidth": 0,
             "ticks": ""
            },
            "colorscale": [
             [
              0,
              "#0d0887"
             ],
             [
              0.1111111111111111,
              "#46039f"
             ],
             [
              0.2222222222222222,
              "#7201a8"
             ],
             [
              0.3333333333333333,
              "#9c179e"
             ],
             [
              0.4444444444444444,
              "#bd3786"
             ],
             [
              0.5555555555555556,
              "#d8576b"
             ],
             [
              0.6666666666666666,
              "#ed7953"
             ],
             [
              0.7777777777777778,
              "#fb9f3a"
             ],
             [
              0.8888888888888888,
              "#fdca26"
             ],
             [
              1,
              "#f0f921"
             ]
            ],
            "type": "contour"
           }
          ],
          "contourcarpet": [
           {
            "colorbar": {
             "outlinewidth": 0,
             "ticks": ""
            },
            "type": "contourcarpet"
           }
          ],
          "heatmap": [
           {
            "colorbar": {
             "outlinewidth": 0,
             "ticks": ""
            },
            "colorscale": [
             [
              0,
              "#0d0887"
             ],
             [
              0.1111111111111111,
              "#46039f"
             ],
             [
              0.2222222222222222,
              "#7201a8"
             ],
             [
              0.3333333333333333,
              "#9c179e"
             ],
             [
              0.4444444444444444,
              "#bd3786"
             ],
             [
              0.5555555555555556,
              "#d8576b"
             ],
             [
              0.6666666666666666,
              "#ed7953"
             ],
             [
              0.7777777777777778,
              "#fb9f3a"
             ],
             [
              0.8888888888888888,
              "#fdca26"
             ],
             [
              1,
              "#f0f921"
             ]
            ],
            "type": "heatmap"
           }
          ],
          "heatmapgl": [
           {
            "colorbar": {
             "outlinewidth": 0,
             "ticks": ""
            },
            "colorscale": [
             [
              0,
              "#0d0887"
             ],
             [
              0.1111111111111111,
              "#46039f"
             ],
             [
              0.2222222222222222,
              "#7201a8"
             ],
             [
              0.3333333333333333,
              "#9c179e"
             ],
             [
              0.4444444444444444,
              "#bd3786"
             ],
             [
              0.5555555555555556,
              "#d8576b"
             ],
             [
              0.6666666666666666,
              "#ed7953"
             ],
             [
              0.7777777777777778,
              "#fb9f3a"
             ],
             [
              0.8888888888888888,
              "#fdca26"
             ],
             [
              1,
              "#f0f921"
             ]
            ],
            "type": "heatmapgl"
           }
          ],
          "histogram": [
           {
            "marker": {
             "pattern": {
              "fillmode": "overlay",
              "size": 10,
              "solidity": 0.2
             }
            },
            "type": "histogram"
           }
          ],
          "histogram2d": [
           {
            "colorbar": {
             "outlinewidth": 0,
             "ticks": ""
            },
            "colorscale": [
             [
              0,
              "#0d0887"
             ],
             [
              0.1111111111111111,
              "#46039f"
             ],
             [
              0.2222222222222222,
              "#7201a8"
             ],
             [
              0.3333333333333333,
              "#9c179e"
             ],
             [
              0.4444444444444444,
              "#bd3786"
             ],
             [
              0.5555555555555556,
              "#d8576b"
             ],
             [
              0.6666666666666666,
              "#ed7953"
             ],
             [
              0.7777777777777778,
              "#fb9f3a"
             ],
             [
              0.8888888888888888,
              "#fdca26"
             ],
             [
              1,
              "#f0f921"
             ]
            ],
            "type": "histogram2d"
           }
          ],
          "histogram2dcontour": [
           {
            "colorbar": {
             "outlinewidth": 0,
             "ticks": ""
            },
            "colorscale": [
             [
              0,
              "#0d0887"
             ],
             [
              0.1111111111111111,
              "#46039f"
             ],
             [
              0.2222222222222222,
              "#7201a8"
             ],
             [
              0.3333333333333333,
              "#9c179e"
             ],
             [
              0.4444444444444444,
              "#bd3786"
             ],
             [
              0.5555555555555556,
              "#d8576b"
             ],
             [
              0.6666666666666666,
              "#ed7953"
             ],
             [
              0.7777777777777778,
              "#fb9f3a"
             ],
             [
              0.8888888888888888,
              "#fdca26"
             ],
             [
              1,
              "#f0f921"
             ]
            ],
            "type": "histogram2dcontour"
           }
          ],
          "mesh3d": [
           {
            "colorbar": {
             "outlinewidth": 0,
             "ticks": ""
            },
            "type": "mesh3d"
           }
          ],
          "parcoords": [
           {
            "line": {
             "colorbar": {
              "outlinewidth": 0,
              "ticks": ""
             }
            },
            "type": "parcoords"
           }
          ],
          "pie": [
           {
            "automargin": true,
            "type": "pie"
           }
          ],
          "scatter": [
           {
            "fillpattern": {
             "fillmode": "overlay",
             "size": 10,
             "solidity": 0.2
            },
            "type": "scatter"
           }
          ],
          "scatter3d": [
           {
            "line": {
             "colorbar": {
              "outlinewidth": 0,
              "ticks": ""
             }
            },
            "marker": {
             "colorbar": {
              "outlinewidth": 0,
              "ticks": ""
             }
            },
            "type": "scatter3d"
           }
          ],
          "scattercarpet": [
           {
            "marker": {
             "colorbar": {
              "outlinewidth": 0,
              "ticks": ""
             }
            },
            "type": "scattercarpet"
           }
          ],
          "scattergeo": [
           {
            "marker": {
             "colorbar": {
              "outlinewidth": 0,
              "ticks": ""
             }
            },
            "type": "scattergeo"
           }
          ],
          "scattergl": [
           {
            "marker": {
             "colorbar": {
              "outlinewidth": 0,
              "ticks": ""
             }
            },
            "type": "scattergl"
           }
          ],
          "scattermapbox": [
           {
            "marker": {
             "colorbar": {
              "outlinewidth": 0,
              "ticks": ""
             }
            },
            "type": "scattermapbox"
           }
          ],
          "scatterpolar": [
           {
            "marker": {
             "colorbar": {
              "outlinewidth": 0,
              "ticks": ""
             }
            },
            "type": "scatterpolar"
           }
          ],
          "scatterpolargl": [
           {
            "marker": {
             "colorbar": {
              "outlinewidth": 0,
              "ticks": ""
             }
            },
            "type": "scatterpolargl"
           }
          ],
          "scatterternary": [
           {
            "marker": {
             "colorbar": {
              "outlinewidth": 0,
              "ticks": ""
             }
            },
            "type": "scatterternary"
           }
          ],
          "surface": [
           {
            "colorbar": {
             "outlinewidth": 0,
             "ticks": ""
            },
            "colorscale": [
             [
              0,
              "#0d0887"
             ],
             [
              0.1111111111111111,
              "#46039f"
             ],
             [
              0.2222222222222222,
              "#7201a8"
             ],
             [
              0.3333333333333333,
              "#9c179e"
             ],
             [
              0.4444444444444444,
              "#bd3786"
             ],
             [
              0.5555555555555556,
              "#d8576b"
             ],
             [
              0.6666666666666666,
              "#ed7953"
             ],
             [
              0.7777777777777778,
              "#fb9f3a"
             ],
             [
              0.8888888888888888,
              "#fdca26"
             ],
             [
              1,
              "#f0f921"
             ]
            ],
            "type": "surface"
           }
          ],
          "table": [
           {
            "cells": {
             "fill": {
              "color": "#EBF0F8"
             },
             "line": {
              "color": "white"
             }
            },
            "header": {
             "fill": {
              "color": "#C8D4E3"
             },
             "line": {
              "color": "white"
             }
            },
            "type": "table"
           }
          ]
         },
         "layout": {
          "annotationdefaults": {
           "arrowcolor": "#2a3f5f",
           "arrowhead": 0,
           "arrowwidth": 1
          },
          "autotypenumbers": "strict",
          "coloraxis": {
           "colorbar": {
            "outlinewidth": 0,
            "ticks": ""
           }
          },
          "colorscale": {
           "diverging": [
            [
             0,
             "#8e0152"
            ],
            [
             0.1,
             "#c51b7d"
            ],
            [
             0.2,
             "#de77ae"
            ],
            [
             0.3,
             "#f1b6da"
            ],
            [
             0.4,
             "#fde0ef"
            ],
            [
             0.5,
             "#f7f7f7"
            ],
            [
             0.6,
             "#e6f5d0"
            ],
            [
             0.7,
             "#b8e186"
            ],
            [
             0.8,
             "#7fbc41"
            ],
            [
             0.9,
             "#4d9221"
            ],
            [
             1,
             "#276419"
            ]
           ],
           "sequential": [
            [
             0,
             "#0d0887"
            ],
            [
             0.1111111111111111,
             "#46039f"
            ],
            [
             0.2222222222222222,
             "#7201a8"
            ],
            [
             0.3333333333333333,
             "#9c179e"
            ],
            [
             0.4444444444444444,
             "#bd3786"
            ],
            [
             0.5555555555555556,
             "#d8576b"
            ],
            [
             0.6666666666666666,
             "#ed7953"
            ],
            [
             0.7777777777777778,
             "#fb9f3a"
            ],
            [
             0.8888888888888888,
             "#fdca26"
            ],
            [
             1,
             "#f0f921"
            ]
           ],
           "sequentialminus": [
            [
             0,
             "#0d0887"
            ],
            [
             0.1111111111111111,
             "#46039f"
            ],
            [
             0.2222222222222222,
             "#7201a8"
            ],
            [
             0.3333333333333333,
             "#9c179e"
            ],
            [
             0.4444444444444444,
             "#bd3786"
            ],
            [
             0.5555555555555556,
             "#d8576b"
            ],
            [
             0.6666666666666666,
             "#ed7953"
            ],
            [
             0.7777777777777778,
             "#fb9f3a"
            ],
            [
             0.8888888888888888,
             "#fdca26"
            ],
            [
             1,
             "#f0f921"
            ]
           ]
          },
          "colorway": [
           "#636efa",
           "#EF553B",
           "#00cc96",
           "#ab63fa",
           "#FFA15A",
           "#19d3f3",
           "#FF6692",
           "#B6E880",
           "#FF97FF",
           "#FECB52"
          ],
          "font": {
           "color": "#2a3f5f"
          },
          "geo": {
           "bgcolor": "white",
           "lakecolor": "white",
           "landcolor": "#E5ECF6",
           "showlakes": true,
           "showland": true,
           "subunitcolor": "white"
          },
          "hoverlabel": {
           "align": "left"
          },
          "hovermode": "closest",
          "mapbox": {
           "style": "light"
          },
          "paper_bgcolor": "white",
          "plot_bgcolor": "#E5ECF6",
          "polar": {
           "angularaxis": {
            "gridcolor": "white",
            "linecolor": "white",
            "ticks": ""
           },
           "bgcolor": "#E5ECF6",
           "radialaxis": {
            "gridcolor": "white",
            "linecolor": "white",
            "ticks": ""
           }
          },
          "scene": {
           "xaxis": {
            "backgroundcolor": "#E5ECF6",
            "gridcolor": "white",
            "gridwidth": 2,
            "linecolor": "white",
            "showbackground": true,
            "ticks": "",
            "zerolinecolor": "white"
           },
           "yaxis": {
            "backgroundcolor": "#E5ECF6",
            "gridcolor": "white",
            "gridwidth": 2,
            "linecolor": "white",
            "showbackground": true,
            "ticks": "",
            "zerolinecolor": "white"
           },
           "zaxis": {
            "backgroundcolor": "#E5ECF6",
            "gridcolor": "white",
            "gridwidth": 2,
            "linecolor": "white",
            "showbackground": true,
            "ticks": "",
            "zerolinecolor": "white"
           }
          },
          "shapedefaults": {
           "line": {
            "color": "#2a3f5f"
           }
          },
          "ternary": {
           "aaxis": {
            "gridcolor": "white",
            "linecolor": "white",
            "ticks": ""
           },
           "baxis": {
            "gridcolor": "white",
            "linecolor": "white",
            "ticks": ""
           },
           "bgcolor": "#E5ECF6",
           "caxis": {
            "gridcolor": "white",
            "linecolor": "white",
            "ticks": ""
           }
          },
          "title": {
           "x": 0.05
          },
          "xaxis": {
           "automargin": true,
           "gridcolor": "white",
           "linecolor": "white",
           "ticks": "",
           "title": {
            "standoff": 15
           },
           "zerolinecolor": "white",
           "zerolinewidth": 2
          },
          "yaxis": {
           "automargin": true,
           "gridcolor": "white",
           "linecolor": "white",
           "ticks": "",
           "title": {
            "standoff": 15
           },
           "zerolinecolor": "white",
           "zerolinewidth": 2
          }
         }
        },
        "title": {
         "text": "Graph"
        }
       }
      }
     },
     "metadata": {},
     "output_type": "display_data"
    }
   ],
   "source": [
    " main()"
   ]
  }
 ],
 "metadata": {
  "kernelspec": {
   "display_name": "base",
   "language": "python",
   "name": "python3"
  },
  "language_info": {
   "codemirror_mode": {
    "name": "ipython",
    "version": 3
   },
   "file_extension": ".py",
   "mimetype": "text/x-python",
   "name": "python",
   "nbconvert_exporter": "python",
   "pygments_lexer": "ipython3",
   "version": "3.10.9"
  },
  "orig_nbformat": 4
 },
 "nbformat": 4,
 "nbformat_minor": 2
}
