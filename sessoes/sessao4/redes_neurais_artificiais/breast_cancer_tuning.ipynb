{
 "cells": [
  {
   "cell_type": "code",
   "execution_count": 1,
   "metadata": {},
   "outputs": [
    {
     "name": "stdout",
     "output_type": "stream",
     "text": [
      "c:\\Users\\athil\\source\\repos\\DeepLearningCourse\\sessoes\\sessao4\\redes_neurais_artificiais\n"
     ]
    }
   ],
   "source": [
    "import os\n",
    "import keras\n",
    "import pandas as pd\n",
    "from keras.models import Sequential\n",
    "from keras.layers import Dense, Dropout\n",
    "from scikeras.wrappers import KerasClassifier\n",
    "from sklearn.model_selection import GridSearchCV\n",
    "\n",
    "os.chdir(os.getcwd())\n",
    "print(os.getcwd())\n",
    "\n",
    "previsores = pd.read_csv('entradas_breast.csv')\n",
    "classe = pd.read_csv('saidas_breast.csv')\n",
    "\n"
   ]
  },
  {
   "cell_type": "code",
   "execution_count": 2,
   "metadata": {},
   "outputs": [],
   "source": [
    "def createNetwork():\n",
    "    classificador = Sequential()\n",
    "    classificador.add(Dense(units = 16, activation = 'relu', kernel_initializer = 'random_uniform', input_dim = 30))\n",
    "    classificador.add(Dropout(0.2))\n",
    "    classificador.add(Dense(units = 16, activation = 'relu', kernel_initializer = 'random_uniform'))\n",
    "    classificador.add(Dropout(0.2))\n",
    "    classificador.add(Dense(units = 1, activation = 'sigmoid'))\n",
    "\n",
    "    optimizer = keras.optimizers.Adam(lr=0.001, decay=0.0001, clipvalue=0.5)\n",
    "    classificador.compile(optimizer = optimizer, loss = 'binary_crossentropy', metrics = ['binary_accuracy'])\n",
    "    return classificador"
   ]
  }
 ],
 "metadata": {
  "kernelspec": {
   "display_name": "base",
   "language": "python",
   "name": "python3"
  },
  "language_info": {
   "codemirror_mode": {
    "name": "ipython",
    "version": 3
   },
   "file_extension": ".py",
   "mimetype": "text/x-python",
   "name": "python",
   "nbconvert_exporter": "python",
   "pygments_lexer": "ipython3",
   "version": "3.10.9"
  },
  "orig_nbformat": 4
 },
 "nbformat": 4,
 "nbformat_minor": 2
}
