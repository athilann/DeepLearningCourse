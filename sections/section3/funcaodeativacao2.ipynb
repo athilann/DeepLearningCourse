{
 "cells": [
  {
   "cell_type": "code",
   "execution_count": 16,
   "metadata": {},
   "outputs": [],
   "source": [
    "import numpy as np\n"
   ]
  },
  {
   "cell_type": "code",
   "execution_count": 17,
   "metadata": {},
   "outputs": [
    {
     "data": {
      "text/plain": [
       "0"
      ]
     },
     "execution_count": 17,
     "metadata": {},
     "output_type": "execute_result"
    }
   ],
   "source": [
    "# ReLU(rectified linear units)\n",
    "\n",
    "def reluFunction(soma):\n",
    "    if soma >= 0:\n",
    "        return soma\n",
    "    return 0\n",
    "\n",
    "\n",
    "reluFunction(1)\n",
    "reluFunction(-1)\n"
   ]
  },
  {
   "cell_type": "code",
   "execution_count": 18,
   "metadata": {},
   "outputs": [
    {
     "data": {
      "text/plain": [
       "1"
      ]
     },
     "execution_count": 18,
     "metadata": {},
     "output_type": "execute_result"
    }
   ],
   "source": [
    "# Linear\n",
    "\n",
    "def linearFunction(soma):\n",
    "    return soma\n",
    "\n",
    "\n",
    "linearFunction(-1)\n",
    "linearFunction(1)\n"
   ]
  },
  {
   "cell_type": "code",
   "execution_count": 19,
   "metadata": {},
   "outputs": [
    {
     "name": "stdout",
     "output_type": "stream",
     "text": [
      "[0.99001676 0.00667068 0.00331256]\n"
     ]
    }
   ],
   "source": [
    "def sofmaxFunction(x):\n",
    "    ex = np.exp(x)\n",
    "    return ex / ex.sum()\n",
    "\n",
    "\n",
    "valores = [7.0, 2.0, 1.3]\n",
    "\n",
    "print(sofmaxFunction(valores))"
   ]
  }
 ],
 "metadata": {
  "kernelspec": {
   "display_name": "Python 3",
   "language": "python",
   "name": "python3"
  },
  "language_info": {
   "codemirror_mode": {
    "name": "ipython",
    "version": 3
   },
   "file_extension": ".py",
   "mimetype": "text/x-python",
   "name": "python",
   "nbconvert_exporter": "python",
   "pygments_lexer": "ipython3",
   "version": "3.10.4"
  },
  "orig_nbformat": 4
 },
 "nbformat": 4,
 "nbformat_minor": 2
}
